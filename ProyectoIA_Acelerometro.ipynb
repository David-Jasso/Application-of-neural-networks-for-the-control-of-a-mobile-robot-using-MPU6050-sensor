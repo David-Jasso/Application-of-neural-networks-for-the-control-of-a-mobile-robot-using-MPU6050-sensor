{
  "nbformat": 4,
  "nbformat_minor": 0,
  "metadata": {
    "colab": {
      "provenance": []
    },
    "kernelspec": {
      "name": "python3",
      "display_name": "Python 3"
    },
    "language_info": {
      "name": "python"
    }
  },
  "cells": [
    {
      "cell_type": "code",
      "execution_count": null,
      "metadata": {
        "colab": {
          "base_uri": "https://localhost:8080/",
          "height": 237
        },
        "id": "TLMRc1mcZzYA",
        "outputId": "e0855ee8-4427-4b75-a619-ebcf3cd7973a"
      },
      "outputs": [
        {
          "output_type": "execute_result",
          "data": {
            "text/plain": [
              "          AccelX  AccelY  AccelZ\n",
              "Output                          \n",
              "BACKWARD     544     544     544\n",
              "FOWARD       928     928     928\n",
              "LEFT         544     544     544\n",
              "RIGTH        547     547     547\n",
              "STOP         588     588     588"
            ],
            "text/html": [
              "\n",
              "  <div id=\"df-63ce396f-d312-4320-b0a8-9fc49e3c9cb1\">\n",
              "    <div class=\"colab-df-container\">\n",
              "      <div>\n",
              "<style scoped>\n",
              "    .dataframe tbody tr th:only-of-type {\n",
              "        vertical-align: middle;\n",
              "    }\n",
              "\n",
              "    .dataframe tbody tr th {\n",
              "        vertical-align: top;\n",
              "    }\n",
              "\n",
              "    .dataframe thead th {\n",
              "        text-align: right;\n",
              "    }\n",
              "</style>\n",
              "<table border=\"1\" class=\"dataframe\">\n",
              "  <thead>\n",
              "    <tr style=\"text-align: right;\">\n",
              "      <th></th>\n",
              "      <th>AccelX</th>\n",
              "      <th>AccelY</th>\n",
              "      <th>AccelZ</th>\n",
              "    </tr>\n",
              "    <tr>\n",
              "      <th>Output</th>\n",
              "      <th></th>\n",
              "      <th></th>\n",
              "      <th></th>\n",
              "    </tr>\n",
              "  </thead>\n",
              "  <tbody>\n",
              "    <tr>\n",
              "      <th>BACKWARD</th>\n",
              "      <td>544</td>\n",
              "      <td>544</td>\n",
              "      <td>544</td>\n",
              "    </tr>\n",
              "    <tr>\n",
              "      <th>FOWARD</th>\n",
              "      <td>928</td>\n",
              "      <td>928</td>\n",
              "      <td>928</td>\n",
              "    </tr>\n",
              "    <tr>\n",
              "      <th>LEFT</th>\n",
              "      <td>544</td>\n",
              "      <td>544</td>\n",
              "      <td>544</td>\n",
              "    </tr>\n",
              "    <tr>\n",
              "      <th>RIGTH</th>\n",
              "      <td>547</td>\n",
              "      <td>547</td>\n",
              "      <td>547</td>\n",
              "    </tr>\n",
              "    <tr>\n",
              "      <th>STOP</th>\n",
              "      <td>588</td>\n",
              "      <td>588</td>\n",
              "      <td>588</td>\n",
              "    </tr>\n",
              "  </tbody>\n",
              "</table>\n",
              "</div>\n",
              "      <button class=\"colab-df-convert\" onclick=\"convertToInteractive('df-63ce396f-d312-4320-b0a8-9fc49e3c9cb1')\"\n",
              "              title=\"Convert this dataframe to an interactive table.\"\n",
              "              style=\"display:none;\">\n",
              "        \n",
              "  <svg xmlns=\"http://www.w3.org/2000/svg\" height=\"24px\"viewBox=\"0 0 24 24\"\n",
              "       width=\"24px\">\n",
              "    <path d=\"M0 0h24v24H0V0z\" fill=\"none\"/>\n",
              "    <path d=\"M18.56 5.44l.94 2.06.94-2.06 2.06-.94-2.06-.94-.94-2.06-.94 2.06-2.06.94zm-11 1L8.5 8.5l.94-2.06 2.06-.94-2.06-.94L8.5 2.5l-.94 2.06-2.06.94zm10 10l.94 2.06.94-2.06 2.06-.94-2.06-.94-.94-2.06-.94 2.06-2.06.94z\"/><path d=\"M17.41 7.96l-1.37-1.37c-.4-.4-.92-.59-1.43-.59-.52 0-1.04.2-1.43.59L10.3 9.45l-7.72 7.72c-.78.78-.78 2.05 0 2.83L4 21.41c.39.39.9.59 1.41.59.51 0 1.02-.2 1.41-.59l7.78-7.78 2.81-2.81c.8-.78.8-2.07 0-2.86zM5.41 20L4 18.59l7.72-7.72 1.47 1.35L5.41 20z\"/>\n",
              "  </svg>\n",
              "      </button>\n",
              "      \n",
              "  <style>\n",
              "    .colab-df-container {\n",
              "      display:flex;\n",
              "      flex-wrap:wrap;\n",
              "      gap: 12px;\n",
              "    }\n",
              "\n",
              "    .colab-df-convert {\n",
              "      background-color: #E8F0FE;\n",
              "      border: none;\n",
              "      border-radius: 50%;\n",
              "      cursor: pointer;\n",
              "      display: none;\n",
              "      fill: #1967D2;\n",
              "      height: 32px;\n",
              "      padding: 0 0 0 0;\n",
              "      width: 32px;\n",
              "    }\n",
              "\n",
              "    .colab-df-convert:hover {\n",
              "      background-color: #E2EBFA;\n",
              "      box-shadow: 0px 1px 2px rgba(60, 64, 67, 0.3), 0px 1px 3px 1px rgba(60, 64, 67, 0.15);\n",
              "      fill: #174EA6;\n",
              "    }\n",
              "\n",
              "    [theme=dark] .colab-df-convert {\n",
              "      background-color: #3B4455;\n",
              "      fill: #D2E3FC;\n",
              "    }\n",
              "\n",
              "    [theme=dark] .colab-df-convert:hover {\n",
              "      background-color: #434B5C;\n",
              "      box-shadow: 0px 1px 3px 1px rgba(0, 0, 0, 0.15);\n",
              "      filter: drop-shadow(0px 1px 2px rgba(0, 0, 0, 0.3));\n",
              "      fill: #FFFFFF;\n",
              "    }\n",
              "  </style>\n",
              "\n",
              "      <script>\n",
              "        const buttonEl =\n",
              "          document.querySelector('#df-63ce396f-d312-4320-b0a8-9fc49e3c9cb1 button.colab-df-convert');\n",
              "        buttonEl.style.display =\n",
              "          google.colab.kernel.accessAllowed ? 'block' : 'none';\n",
              "\n",
              "        async function convertToInteractive(key) {\n",
              "          const element = document.querySelector('#df-63ce396f-d312-4320-b0a8-9fc49e3c9cb1');\n",
              "          const dataTable =\n",
              "            await google.colab.kernel.invokeFunction('convertToInteractive',\n",
              "                                                     [key], {});\n",
              "          if (!dataTable) return;\n",
              "\n",
              "          const docLinkHtml = 'Like what you see? Visit the ' +\n",
              "            '<a target=\"_blank\" href=https://colab.research.google.com/notebooks/data_table.ipynb>data table notebook</a>'\n",
              "            + ' to learn more about interactive tables.';\n",
              "          element.innerHTML = '';\n",
              "          dataTable['output_type'] = 'display_data';\n",
              "          await google.colab.output.renderOutput(dataTable, element);\n",
              "          const docLink = document.createElement('div');\n",
              "          docLink.innerHTML = docLinkHtml;\n",
              "          element.appendChild(docLink);\n",
              "        }\n",
              "      </script>\n",
              "    </div>\n",
              "  </div>\n",
              "  "
            ]
          },
          "metadata": {},
          "execution_count": 1
        }
      ],
      "source": [
        "import pandas as pd\n",
        "\n",
        "data= pd.read_csv('MuestreoPro.csv')\n",
        "data.groupby('Output').count()"
      ]
    },
    {
      "cell_type": "code",
      "source": [
        "Accel = data.iloc[:, 0 : 3]\n",
        "Accel"
      ],
      "metadata": {
        "colab": {
          "base_uri": "https://localhost:8080/",
          "height": 424
        },
        "id": "XIQk3AT3CPM3",
        "outputId": "36c24154-9b2c-40da-e7a7-9d0a97a455b4"
      },
      "execution_count": null,
      "outputs": [
        {
          "output_type": "execute_result",
          "data": {
            "text/plain": [
              "       AccelX   AccelY  AccelZ\n",
              "0     -3164.0 -15760.0  5204.0\n",
              "1     -3584.0 -16048.0  5220.0\n",
              "2     -3624.0 -16000.0  5048.0\n",
              "3     -3016.0 -15944.0  5384.0\n",
              "4     -3572.0 -15952.0  4916.0\n",
              "...       ...      ...     ...\n",
              "3146 -14616.0   1144.0  -168.0\n",
              "3147 -14880.0    776.0  -500.0\n",
              "3148 -15376.0    900.0  -808.0\n",
              "3149 -14816.0    868.0  -576.0\n",
              "3150 -15296.0    736.0  -724.0\n",
              "\n",
              "[3151 rows x 3 columns]"
            ],
            "text/html": [
              "\n",
              "  <div id=\"df-55ddd92f-6e84-4eeb-84ca-ba3d3e5aa22a\">\n",
              "    <div class=\"colab-df-container\">\n",
              "      <div>\n",
              "<style scoped>\n",
              "    .dataframe tbody tr th:only-of-type {\n",
              "        vertical-align: middle;\n",
              "    }\n",
              "\n",
              "    .dataframe tbody tr th {\n",
              "        vertical-align: top;\n",
              "    }\n",
              "\n",
              "    .dataframe thead th {\n",
              "        text-align: right;\n",
              "    }\n",
              "</style>\n",
              "<table border=\"1\" class=\"dataframe\">\n",
              "  <thead>\n",
              "    <tr style=\"text-align: right;\">\n",
              "      <th></th>\n",
              "      <th>AccelX</th>\n",
              "      <th>AccelY</th>\n",
              "      <th>AccelZ</th>\n",
              "    </tr>\n",
              "  </thead>\n",
              "  <tbody>\n",
              "    <tr>\n",
              "      <th>0</th>\n",
              "      <td>-3164.0</td>\n",
              "      <td>-15760.0</td>\n",
              "      <td>5204.0</td>\n",
              "    </tr>\n",
              "    <tr>\n",
              "      <th>1</th>\n",
              "      <td>-3584.0</td>\n",
              "      <td>-16048.0</td>\n",
              "      <td>5220.0</td>\n",
              "    </tr>\n",
              "    <tr>\n",
              "      <th>2</th>\n",
              "      <td>-3624.0</td>\n",
              "      <td>-16000.0</td>\n",
              "      <td>5048.0</td>\n",
              "    </tr>\n",
              "    <tr>\n",
              "      <th>3</th>\n",
              "      <td>-3016.0</td>\n",
              "      <td>-15944.0</td>\n",
              "      <td>5384.0</td>\n",
              "    </tr>\n",
              "    <tr>\n",
              "      <th>4</th>\n",
              "      <td>-3572.0</td>\n",
              "      <td>-15952.0</td>\n",
              "      <td>4916.0</td>\n",
              "    </tr>\n",
              "    <tr>\n",
              "      <th>...</th>\n",
              "      <td>...</td>\n",
              "      <td>...</td>\n",
              "      <td>...</td>\n",
              "    </tr>\n",
              "    <tr>\n",
              "      <th>3146</th>\n",
              "      <td>-14616.0</td>\n",
              "      <td>1144.0</td>\n",
              "      <td>-168.0</td>\n",
              "    </tr>\n",
              "    <tr>\n",
              "      <th>3147</th>\n",
              "      <td>-14880.0</td>\n",
              "      <td>776.0</td>\n",
              "      <td>-500.0</td>\n",
              "    </tr>\n",
              "    <tr>\n",
              "      <th>3148</th>\n",
              "      <td>-15376.0</td>\n",
              "      <td>900.0</td>\n",
              "      <td>-808.0</td>\n",
              "    </tr>\n",
              "    <tr>\n",
              "      <th>3149</th>\n",
              "      <td>-14816.0</td>\n",
              "      <td>868.0</td>\n",
              "      <td>-576.0</td>\n",
              "    </tr>\n",
              "    <tr>\n",
              "      <th>3150</th>\n",
              "      <td>-15296.0</td>\n",
              "      <td>736.0</td>\n",
              "      <td>-724.0</td>\n",
              "    </tr>\n",
              "  </tbody>\n",
              "</table>\n",
              "<p>3151 rows × 3 columns</p>\n",
              "</div>\n",
              "      <button class=\"colab-df-convert\" onclick=\"convertToInteractive('df-55ddd92f-6e84-4eeb-84ca-ba3d3e5aa22a')\"\n",
              "              title=\"Convert this dataframe to an interactive table.\"\n",
              "              style=\"display:none;\">\n",
              "        \n",
              "  <svg xmlns=\"http://www.w3.org/2000/svg\" height=\"24px\"viewBox=\"0 0 24 24\"\n",
              "       width=\"24px\">\n",
              "    <path d=\"M0 0h24v24H0V0z\" fill=\"none\"/>\n",
              "    <path d=\"M18.56 5.44l.94 2.06.94-2.06 2.06-.94-2.06-.94-.94-2.06-.94 2.06-2.06.94zm-11 1L8.5 8.5l.94-2.06 2.06-.94-2.06-.94L8.5 2.5l-.94 2.06-2.06.94zm10 10l.94 2.06.94-2.06 2.06-.94-2.06-.94-.94-2.06-.94 2.06-2.06.94z\"/><path d=\"M17.41 7.96l-1.37-1.37c-.4-.4-.92-.59-1.43-.59-.52 0-1.04.2-1.43.59L10.3 9.45l-7.72 7.72c-.78.78-.78 2.05 0 2.83L4 21.41c.39.39.9.59 1.41.59.51 0 1.02-.2 1.41-.59l7.78-7.78 2.81-2.81c.8-.78.8-2.07 0-2.86zM5.41 20L4 18.59l7.72-7.72 1.47 1.35L5.41 20z\"/>\n",
              "  </svg>\n",
              "      </button>\n",
              "      \n",
              "  <style>\n",
              "    .colab-df-container {\n",
              "      display:flex;\n",
              "      flex-wrap:wrap;\n",
              "      gap: 12px;\n",
              "    }\n",
              "\n",
              "    .colab-df-convert {\n",
              "      background-color: #E8F0FE;\n",
              "      border: none;\n",
              "      border-radius: 50%;\n",
              "      cursor: pointer;\n",
              "      display: none;\n",
              "      fill: #1967D2;\n",
              "      height: 32px;\n",
              "      padding: 0 0 0 0;\n",
              "      width: 32px;\n",
              "    }\n",
              "\n",
              "    .colab-df-convert:hover {\n",
              "      background-color: #E2EBFA;\n",
              "      box-shadow: 0px 1px 2px rgba(60, 64, 67, 0.3), 0px 1px 3px 1px rgba(60, 64, 67, 0.15);\n",
              "      fill: #174EA6;\n",
              "    }\n",
              "\n",
              "    [theme=dark] .colab-df-convert {\n",
              "      background-color: #3B4455;\n",
              "      fill: #D2E3FC;\n",
              "    }\n",
              "\n",
              "    [theme=dark] .colab-df-convert:hover {\n",
              "      background-color: #434B5C;\n",
              "      box-shadow: 0px 1px 3px 1px rgba(0, 0, 0, 0.15);\n",
              "      filter: drop-shadow(0px 1px 2px rgba(0, 0, 0, 0.3));\n",
              "      fill: #FFFFFF;\n",
              "    }\n",
              "  </style>\n",
              "\n",
              "      <script>\n",
              "        const buttonEl =\n",
              "          document.querySelector('#df-55ddd92f-6e84-4eeb-84ca-ba3d3e5aa22a button.colab-df-convert');\n",
              "        buttonEl.style.display =\n",
              "          google.colab.kernel.accessAllowed ? 'block' : 'none';\n",
              "\n",
              "        async function convertToInteractive(key) {\n",
              "          const element = document.querySelector('#df-55ddd92f-6e84-4eeb-84ca-ba3d3e5aa22a');\n",
              "          const dataTable =\n",
              "            await google.colab.kernel.invokeFunction('convertToInteractive',\n",
              "                                                     [key], {});\n",
              "          if (!dataTable) return;\n",
              "\n",
              "          const docLinkHtml = 'Like what you see? Visit the ' +\n",
              "            '<a target=\"_blank\" href=https://colab.research.google.com/notebooks/data_table.ipynb>data table notebook</a>'\n",
              "            + ' to learn more about interactive tables.';\n",
              "          element.innerHTML = '';\n",
              "          dataTable['output_type'] = 'display_data';\n",
              "          await google.colab.output.renderOutput(dataTable, element);\n",
              "          const docLink = document.createElement('div');\n",
              "          docLink.innerHTML = docLinkHtml;\n",
              "          element.appendChild(docLink);\n",
              "        }\n",
              "      </script>\n",
              "    </div>\n",
              "  </div>\n",
              "  "
            ]
          },
          "metadata": {},
          "execution_count": 2
        }
      ]
    },
    {
      "cell_type": "code",
      "source": [
        "Output = data.iloc[:, -1].values\n",
        "Output"
      ],
      "metadata": {
        "colab": {
          "base_uri": "https://localhost:8080/"
        },
        "id": "PghsBTCzDHft",
        "outputId": "18ae97e7-fc0e-4034-f7ad-debbc19f14e8"
      },
      "execution_count": null,
      "outputs": [
        {
          "output_type": "execute_result",
          "data": {
            "text/plain": [
              "array(['FOWARD', 'FOWARD', 'FOWARD', ..., 'RIGTH', 'RIGTH', 'RIGTH'],\n",
              "      dtype=object)"
            ]
          },
          "metadata": {},
          "execution_count": 3
        }
      ]
    },
    {
      "cell_type": "code",
      "source": [
        "mean = Accel.mean()\n",
        "std = Accel.std()\n",
        "norm = (Accel-mean)/std\n",
        "mean"
      ],
      "metadata": {
        "colab": {
          "base_uri": "https://localhost:8080/"
        },
        "id": "TFPMHf23DP4p",
        "outputId": "6aeb1059-2d59-4909-9740-a6678edc4175"
      },
      "execution_count": null,
      "outputs": [
        {
          "output_type": "execute_result",
          "data": {
            "text/plain": [
              "AccelX    -821.626150\n",
              "AccelY    -773.524595\n",
              "AccelZ    5833.392574\n",
              "dtype: float64"
            ]
          },
          "metadata": {},
          "execution_count": 18
        }
      ]
    },
    {
      "cell_type": "code",
      "source": [
        "Output = pd.get_dummies(data['Output'])\n",
        "Output.head()"
      ],
      "metadata": {
        "colab": {
          "base_uri": "https://localhost:8080/",
          "height": 206
        },
        "id": "ifJJElwtD1z0",
        "outputId": "c4dd0725-4e7a-4aa4-f9cb-5782e4a9a1a2"
      },
      "execution_count": null,
      "outputs": [
        {
          "output_type": "execute_result",
          "data": {
            "text/plain": [
              "   BACKWARD  FOWARD  LEFT  RIGTH  STOP\n",
              "0         0       1     0      0     0\n",
              "1         0       1     0      0     0\n",
              "2         0       1     0      0     0\n",
              "3         0       1     0      0     0\n",
              "4         0       1     0      0     0"
            ],
            "text/html": [
              "\n",
              "  <div id=\"df-e791d710-220d-443a-bc86-52773d95b432\">\n",
              "    <div class=\"colab-df-container\">\n",
              "      <div>\n",
              "<style scoped>\n",
              "    .dataframe tbody tr th:only-of-type {\n",
              "        vertical-align: middle;\n",
              "    }\n",
              "\n",
              "    .dataframe tbody tr th {\n",
              "        vertical-align: top;\n",
              "    }\n",
              "\n",
              "    .dataframe thead th {\n",
              "        text-align: right;\n",
              "    }\n",
              "</style>\n",
              "<table border=\"1\" class=\"dataframe\">\n",
              "  <thead>\n",
              "    <tr style=\"text-align: right;\">\n",
              "      <th></th>\n",
              "      <th>BACKWARD</th>\n",
              "      <th>FOWARD</th>\n",
              "      <th>LEFT</th>\n",
              "      <th>RIGTH</th>\n",
              "      <th>STOP</th>\n",
              "    </tr>\n",
              "  </thead>\n",
              "  <tbody>\n",
              "    <tr>\n",
              "      <th>0</th>\n",
              "      <td>0</td>\n",
              "      <td>1</td>\n",
              "      <td>0</td>\n",
              "      <td>0</td>\n",
              "      <td>0</td>\n",
              "    </tr>\n",
              "    <tr>\n",
              "      <th>1</th>\n",
              "      <td>0</td>\n",
              "      <td>1</td>\n",
              "      <td>0</td>\n",
              "      <td>0</td>\n",
              "      <td>0</td>\n",
              "    </tr>\n",
              "    <tr>\n",
              "      <th>2</th>\n",
              "      <td>0</td>\n",
              "      <td>1</td>\n",
              "      <td>0</td>\n",
              "      <td>0</td>\n",
              "      <td>0</td>\n",
              "    </tr>\n",
              "    <tr>\n",
              "      <th>3</th>\n",
              "      <td>0</td>\n",
              "      <td>1</td>\n",
              "      <td>0</td>\n",
              "      <td>0</td>\n",
              "      <td>0</td>\n",
              "    </tr>\n",
              "    <tr>\n",
              "      <th>4</th>\n",
              "      <td>0</td>\n",
              "      <td>1</td>\n",
              "      <td>0</td>\n",
              "      <td>0</td>\n",
              "      <td>0</td>\n",
              "    </tr>\n",
              "  </tbody>\n",
              "</table>\n",
              "</div>\n",
              "      <button class=\"colab-df-convert\" onclick=\"convertToInteractive('df-e791d710-220d-443a-bc86-52773d95b432')\"\n",
              "              title=\"Convert this dataframe to an interactive table.\"\n",
              "              style=\"display:none;\">\n",
              "        \n",
              "  <svg xmlns=\"http://www.w3.org/2000/svg\" height=\"24px\"viewBox=\"0 0 24 24\"\n",
              "       width=\"24px\">\n",
              "    <path d=\"M0 0h24v24H0V0z\" fill=\"none\"/>\n",
              "    <path d=\"M18.56 5.44l.94 2.06.94-2.06 2.06-.94-2.06-.94-.94-2.06-.94 2.06-2.06.94zm-11 1L8.5 8.5l.94-2.06 2.06-.94-2.06-.94L8.5 2.5l-.94 2.06-2.06.94zm10 10l.94 2.06.94-2.06 2.06-.94-2.06-.94-.94-2.06-.94 2.06-2.06.94z\"/><path d=\"M17.41 7.96l-1.37-1.37c-.4-.4-.92-.59-1.43-.59-.52 0-1.04.2-1.43.59L10.3 9.45l-7.72 7.72c-.78.78-.78 2.05 0 2.83L4 21.41c.39.39.9.59 1.41.59.51 0 1.02-.2 1.41-.59l7.78-7.78 2.81-2.81c.8-.78.8-2.07 0-2.86zM5.41 20L4 18.59l7.72-7.72 1.47 1.35L5.41 20z\"/>\n",
              "  </svg>\n",
              "      </button>\n",
              "      \n",
              "  <style>\n",
              "    .colab-df-container {\n",
              "      display:flex;\n",
              "      flex-wrap:wrap;\n",
              "      gap: 12px;\n",
              "    }\n",
              "\n",
              "    .colab-df-convert {\n",
              "      background-color: #E8F0FE;\n",
              "      border: none;\n",
              "      border-radius: 50%;\n",
              "      cursor: pointer;\n",
              "      display: none;\n",
              "      fill: #1967D2;\n",
              "      height: 32px;\n",
              "      padding: 0 0 0 0;\n",
              "      width: 32px;\n",
              "    }\n",
              "\n",
              "    .colab-df-convert:hover {\n",
              "      background-color: #E2EBFA;\n",
              "      box-shadow: 0px 1px 2px rgba(60, 64, 67, 0.3), 0px 1px 3px 1px rgba(60, 64, 67, 0.15);\n",
              "      fill: #174EA6;\n",
              "    }\n",
              "\n",
              "    [theme=dark] .colab-df-convert {\n",
              "      background-color: #3B4455;\n",
              "      fill: #D2E3FC;\n",
              "    }\n",
              "\n",
              "    [theme=dark] .colab-df-convert:hover {\n",
              "      background-color: #434B5C;\n",
              "      box-shadow: 0px 1px 3px 1px rgba(0, 0, 0, 0.15);\n",
              "      filter: drop-shadow(0px 1px 2px rgba(0, 0, 0, 0.3));\n",
              "      fill: #FFFFFF;\n",
              "    }\n",
              "  </style>\n",
              "\n",
              "      <script>\n",
              "        const buttonEl =\n",
              "          document.querySelector('#df-e791d710-220d-443a-bc86-52773d95b432 button.colab-df-convert');\n",
              "        buttonEl.style.display =\n",
              "          google.colab.kernel.accessAllowed ? 'block' : 'none';\n",
              "\n",
              "        async function convertToInteractive(key) {\n",
              "          const element = document.querySelector('#df-e791d710-220d-443a-bc86-52773d95b432');\n",
              "          const dataTable =\n",
              "            await google.colab.kernel.invokeFunction('convertToInteractive',\n",
              "                                                     [key], {});\n",
              "          if (!dataTable) return;\n",
              "\n",
              "          const docLinkHtml = 'Like what you see? Visit the ' +\n",
              "            '<a target=\"_blank\" href=https://colab.research.google.com/notebooks/data_table.ipynb>data table notebook</a>'\n",
              "            + ' to learn more about interactive tables.';\n",
              "          element.innerHTML = '';\n",
              "          dataTable['output_type'] = 'display_data';\n",
              "          await google.colab.output.renderOutput(dataTable, element);\n",
              "          const docLink = document.createElement('div');\n",
              "          docLink.innerHTML = docLinkHtml;\n",
              "          element.appendChild(docLink);\n",
              "        }\n",
              "      </script>\n",
              "    </div>\n",
              "  </div>\n",
              "  "
            ]
          },
          "metadata": {},
          "execution_count": 5
        }
      ]
    },
    {
      "cell_type": "code",
      "source": [
        "x = norm.iloc[:,:].values\n",
        "y = Output"
      ],
      "metadata": {
        "id": "7f5tp-HdE_GH"
      },
      "execution_count": null,
      "outputs": []
    },
    {
      "cell_type": "code",
      "source": [
        "from sklearn.model_selection import train_test_split\n",
        "\n",
        "x_train, x_test, y_train, y_test = train_test_split(x, y, test_size = 0.2)"
      ],
      "metadata": {
        "id": "hjdD7UdFEfnT"
      },
      "execution_count": null,
      "outputs": []
    },
    {
      "cell_type": "code",
      "source": [
        "input_shape = x_train[0].shape\n",
        "input_shape"
      ],
      "metadata": {
        "colab": {
          "base_uri": "https://localhost:8080/"
        },
        "id": "QdrklDD1FVMk",
        "outputId": "fd4c738c-a32b-4e7e-dea0-9f951cb57fb1"
      },
      "execution_count": null,
      "outputs": [
        {
          "output_type": "execute_result",
          "data": {
            "text/plain": [
              "(3,)"
            ]
          },
          "metadata": {},
          "execution_count": 8
        }
      ]
    },
    {
      "cell_type": "code",
      "source": [
        "from keras.models import Sequential\n",
        "from keras.layers import Dense\n",
        "\n",
        "model = Sequential()\n",
        "model.add(Dense(units=4, activation='relu', input_shape=input_shape))\n",
        "model.add(Dense(units=4, activation='relu'))\n",
        "\n",
        "model.add(Dense(units=5, activation = 'softmax'))\n",
        "model.summary()"
      ],
      "metadata": {
        "colab": {
          "base_uri": "https://localhost:8080/"
        },
        "id": "ghLHyNf5FuAc",
        "outputId": "d7f4bdc7-8954-4969-b224-f503c1f78f75"
      },
      "execution_count": null,
      "outputs": [
        {
          "output_type": "stream",
          "name": "stdout",
          "text": [
            "Model: \"sequential\"\n",
            "_________________________________________________________________\n",
            " Layer (type)                Output Shape              Param #   \n",
            "=================================================================\n",
            " dense (Dense)               (None, 4)                 16        \n",
            "                                                                 \n",
            " dense_1 (Dense)             (None, 4)                 20        \n",
            "                                                                 \n",
            " dense_2 (Dense)             (None, 5)                 25        \n",
            "                                                                 \n",
            "=================================================================\n",
            "Total params: 61\n",
            "Trainable params: 61\n",
            "Non-trainable params: 0\n",
            "_________________________________________________________________\n"
          ]
        }
      ]
    },
    {
      "cell_type": "code",
      "source": [
        "model.compile(optimizer = 'adam', loss = 'categorical_crossentropy', metrics = ['accuracy'])"
      ],
      "metadata": {
        "id": "FMppLMpLGjdx"
      },
      "execution_count": null,
      "outputs": []
    },
    {
      "cell_type": "code",
      "source": [
        "res = model.fit(x_train, y_train, epochs=50, validation_split=0.2)"
      ],
      "metadata": {
        "colab": {
          "base_uri": "https://localhost:8080/"
        },
        "id": "-cTTT8NVG1FS",
        "outputId": "e35e2197-7c6a-455d-faf3-505104eefb6f"
      },
      "execution_count": null,
      "outputs": [
        {
          "output_type": "stream",
          "name": "stdout",
          "text": [
            "Epoch 1/50\n",
            "63/63 [==============================] - 1s 6ms/step - loss: 1.5045 - accuracy: 0.2976 - val_loss: 1.4600 - val_accuracy: 0.2738\n",
            "Epoch 2/50\n",
            "63/63 [==============================] - 0s 2ms/step - loss: 1.3938 - accuracy: 0.3953 - val_loss: 1.3543 - val_accuracy: 0.4385\n",
            "Epoch 3/50\n",
            "63/63 [==============================] - 0s 2ms/step - loss: 1.2766 - accuracy: 0.4722 - val_loss: 1.2368 - val_accuracy: 0.4385\n",
            "Epoch 4/50\n",
            "63/63 [==============================] - 0s 2ms/step - loss: 1.1388 - accuracy: 0.4722 - val_loss: 1.0936 - val_accuracy: 0.4385\n",
            "Epoch 5/50\n",
            "63/63 [==============================] - 0s 2ms/step - loss: 0.9834 - accuracy: 0.5813 - val_loss: 0.9424 - val_accuracy: 0.8155\n",
            "Epoch 6/50\n",
            "63/63 [==============================] - 0s 3ms/step - loss: 0.8350 - accuracy: 0.8338 - val_loss: 0.8124 - val_accuracy: 0.8155\n",
            "Epoch 7/50\n",
            "63/63 [==============================] - 0s 3ms/step - loss: 0.7175 - accuracy: 0.8304 - val_loss: 0.7152 - val_accuracy: 0.8155\n",
            "Epoch 8/50\n",
            "63/63 [==============================] - 0s 3ms/step - loss: 0.6335 - accuracy: 0.8304 - val_loss: 0.6456 - val_accuracy: 0.8155\n",
            "Epoch 9/50\n",
            "63/63 [==============================] - 0s 2ms/step - loss: 0.5733 - accuracy: 0.8304 - val_loss: 0.5941 - val_accuracy: 0.8155\n",
            "Epoch 10/50\n",
            "63/63 [==============================] - 0s 2ms/step - loss: 0.5284 - accuracy: 0.8304 - val_loss: 0.5542 - val_accuracy: 0.8155\n",
            "Epoch 11/50\n",
            "63/63 [==============================] - 0s 2ms/step - loss: 0.4938 - accuracy: 0.8304 - val_loss: 0.5230 - val_accuracy: 0.8155\n",
            "Epoch 12/50\n",
            "63/63 [==============================] - 0s 2ms/step - loss: 0.4664 - accuracy: 0.8304 - val_loss: 0.4971 - val_accuracy: 0.8155\n",
            "Epoch 13/50\n",
            "63/63 [==============================] - 0s 3ms/step - loss: 0.4437 - accuracy: 0.8304 - val_loss: 0.4755 - val_accuracy: 0.8155\n",
            "Epoch 14/50\n",
            "63/63 [==============================] - 0s 2ms/step - loss: 0.4245 - accuracy: 0.8304 - val_loss: 0.4569 - val_accuracy: 0.8155\n",
            "Epoch 15/50\n",
            "63/63 [==============================] - 0s 3ms/step - loss: 0.4081 - accuracy: 0.8304 - val_loss: 0.4405 - val_accuracy: 0.8155\n",
            "Epoch 16/50\n",
            "63/63 [==============================] - 0s 3ms/step - loss: 0.3936 - accuracy: 0.8304 - val_loss: 0.4259 - val_accuracy: 0.8155\n",
            "Epoch 17/50\n",
            "63/63 [==============================] - 0s 2ms/step - loss: 0.3805 - accuracy: 0.8304 - val_loss: 0.4126 - val_accuracy: 0.8155\n",
            "Epoch 18/50\n",
            "63/63 [==============================] - 0s 2ms/step - loss: 0.3685 - accuracy: 0.8304 - val_loss: 0.3999 - val_accuracy: 0.8155\n",
            "Epoch 19/50\n",
            "63/63 [==============================] - 0s 2ms/step - loss: 0.3570 - accuracy: 0.8304 - val_loss: 0.3875 - val_accuracy: 0.8155\n",
            "Epoch 20/50\n",
            "63/63 [==============================] - 0s 2ms/step - loss: 0.3455 - accuracy: 0.8304 - val_loss: 0.3749 - val_accuracy: 0.8155\n",
            "Epoch 21/50\n",
            "63/63 [==============================] - 0s 2ms/step - loss: 0.3338 - accuracy: 0.8889 - val_loss: 0.3616 - val_accuracy: 0.9960\n",
            "Epoch 22/50\n",
            "63/63 [==============================] - 0s 3ms/step - loss: 0.3214 - accuracy: 0.9950 - val_loss: 0.3474 - val_accuracy: 0.9940\n",
            "Epoch 23/50\n",
            "63/63 [==============================] - 0s 2ms/step - loss: 0.3084 - accuracy: 0.9955 - val_loss: 0.3324 - val_accuracy: 0.9980\n",
            "Epoch 24/50\n",
            "63/63 [==============================] - 0s 2ms/step - loss: 0.2949 - accuracy: 0.9985 - val_loss: 0.3172 - val_accuracy: 0.9980\n",
            "Epoch 25/50\n",
            "63/63 [==============================] - 0s 2ms/step - loss: 0.2810 - accuracy: 0.9985 - val_loss: 0.3019 - val_accuracy: 1.0000\n",
            "Epoch 26/50\n",
            "63/63 [==============================] - 0s 2ms/step - loss: 0.2674 - accuracy: 1.0000 - val_loss: 0.2864 - val_accuracy: 1.0000\n",
            "Epoch 27/50\n",
            "63/63 [==============================] - 0s 2ms/step - loss: 0.2539 - accuracy: 0.9990 - val_loss: 0.2721 - val_accuracy: 1.0000\n",
            "Epoch 28/50\n",
            "63/63 [==============================] - 0s 2ms/step - loss: 0.2409 - accuracy: 1.0000 - val_loss: 0.2579 - val_accuracy: 1.0000\n",
            "Epoch 29/50\n",
            "63/63 [==============================] - 0s 2ms/step - loss: 0.2284 - accuracy: 1.0000 - val_loss: 0.2446 - val_accuracy: 1.0000\n",
            "Epoch 30/50\n",
            "63/63 [==============================] - 0s 2ms/step - loss: 0.2167 - accuracy: 1.0000 - val_loss: 0.2316 - val_accuracy: 1.0000\n",
            "Epoch 31/50\n",
            "63/63 [==============================] - 0s 3ms/step - loss: 0.2055 - accuracy: 1.0000 - val_loss: 0.2195 - val_accuracy: 1.0000\n",
            "Epoch 32/50\n",
            "63/63 [==============================] - 0s 3ms/step - loss: 0.1949 - accuracy: 1.0000 - val_loss: 0.2084 - val_accuracy: 1.0000\n",
            "Epoch 33/50\n",
            "63/63 [==============================] - 0s 2ms/step - loss: 0.1850 - accuracy: 1.0000 - val_loss: 0.1978 - val_accuracy: 1.0000\n",
            "Epoch 34/50\n",
            "63/63 [==============================] - 0s 2ms/step - loss: 0.1757 - accuracy: 1.0000 - val_loss: 0.1878 - val_accuracy: 1.0000\n",
            "Epoch 35/50\n",
            "63/63 [==============================] - 0s 2ms/step - loss: 0.1670 - accuracy: 1.0000 - val_loss: 0.1786 - val_accuracy: 1.0000\n",
            "Epoch 36/50\n",
            "63/63 [==============================] - 0s 2ms/step - loss: 0.1588 - accuracy: 1.0000 - val_loss: 0.1698 - val_accuracy: 1.0000\n",
            "Epoch 37/50\n",
            "63/63 [==============================] - 0s 2ms/step - loss: 0.1510 - accuracy: 1.0000 - val_loss: 0.1618 - val_accuracy: 1.0000\n",
            "Epoch 38/50\n",
            "63/63 [==============================] - 0s 3ms/step - loss: 0.1438 - accuracy: 1.0000 - val_loss: 0.1539 - val_accuracy: 1.0000\n",
            "Epoch 39/50\n",
            "63/63 [==============================] - 0s 2ms/step - loss: 0.1369 - accuracy: 1.0000 - val_loss: 0.1467 - val_accuracy: 1.0000\n",
            "Epoch 40/50\n",
            "63/63 [==============================] - 0s 2ms/step - loss: 0.1305 - accuracy: 1.0000 - val_loss: 0.1397 - val_accuracy: 1.0000\n",
            "Epoch 41/50\n",
            "63/63 [==============================] - 0s 2ms/step - loss: 0.1244 - accuracy: 1.0000 - val_loss: 0.1333 - val_accuracy: 1.0000\n",
            "Epoch 42/50\n",
            "63/63 [==============================] - 0s 2ms/step - loss: 0.1188 - accuracy: 1.0000 - val_loss: 0.1273 - val_accuracy: 1.0000\n",
            "Epoch 43/50\n",
            "63/63 [==============================] - 0s 2ms/step - loss: 0.1134 - accuracy: 1.0000 - val_loss: 0.1216 - val_accuracy: 1.0000\n",
            "Epoch 44/50\n",
            "63/63 [==============================] - 0s 2ms/step - loss: 0.1083 - accuracy: 1.0000 - val_loss: 0.1162 - val_accuracy: 1.0000\n",
            "Epoch 45/50\n",
            "63/63 [==============================] - 0s 3ms/step - loss: 0.1036 - accuracy: 1.0000 - val_loss: 0.1111 - val_accuracy: 1.0000\n",
            "Epoch 46/50\n",
            "63/63 [==============================] - 0s 2ms/step - loss: 0.0990 - accuracy: 1.0000 - val_loss: 0.1062 - val_accuracy: 1.0000\n",
            "Epoch 47/50\n",
            "63/63 [==============================] - 0s 2ms/step - loss: 0.0947 - accuracy: 1.0000 - val_loss: 0.1016 - val_accuracy: 1.0000\n",
            "Epoch 48/50\n",
            "63/63 [==============================] - 0s 2ms/step - loss: 0.0904 - accuracy: 1.0000 - val_loss: 0.0967 - val_accuracy: 1.0000\n",
            "Epoch 49/50\n",
            "63/63 [==============================] - 0s 2ms/step - loss: 0.0858 - accuracy: 1.0000 - val_loss: 0.0914 - val_accuracy: 1.0000\n",
            "Epoch 50/50\n",
            "63/63 [==============================] - 0s 2ms/step - loss: 0.0806 - accuracy: 1.0000 - val_loss: 0.0854 - val_accuracy: 1.0000\n"
          ]
        }
      ]
    },
    {
      "cell_type": "code",
      "source": [
        "hist = res.history\n",
        "loss = hist['loss']\n",
        "val_loss = hist['val_loss']"
      ],
      "metadata": {
        "id": "9uPHPB71Imqq"
      },
      "execution_count": null,
      "outputs": []
    },
    {
      "cell_type": "code",
      "source": [
        "from matplotlib import pyplot as plt\n",
        "\n",
        "epochs = range(1, len(loss) + 1)\n",
        "\n",
        "plt.ylabel('Función de perdida')\n",
        "plt.xlabel('Epochs')\n",
        "plt.plot(epochs, loss, 'b', label='Entrenamiento')\n",
        "plt.plot(epochs, val_loss, 'r', linestyle='dashed', label='Validación')\n",
        "plt.legend()"
      ],
      "metadata": {
        "colab": {
          "base_uri": "https://localhost:8080/",
          "height": 296
        },
        "id": "kumurL8eIn5e",
        "outputId": "93bbc1a0-7efd-495e-be06-de921111f809"
      },
      "execution_count": null,
      "outputs": [
        {
          "output_type": "execute_result",
          "data": {
            "text/plain": [
              "<matplotlib.legend.Legend at 0x7f39ed598850>"
            ]
          },
          "metadata": {},
          "execution_count": 13
        },
        {
          "output_type": "display_data",
          "data": {
            "text/plain": [
              "<Figure size 432x288 with 1 Axes>"
            ],
            "image/png": "[encoded data removed]"
          },
          "metadata": {
            "needs_background": "light"
          }
        }
      ]
    },
    {
      "cell_type": "code",
      "source": [
        "model.evaluate(x_test, y_test)"
      ],
      "metadata": {
        "colab": {
          "base_uri": "https://localhost:8080/"
        },
        "id": "JMuJVR8oIsWj",
        "outputId": "4c2dba24-e243-4a38-dfb5-4301cb033c35"
      },
      "execution_count": null,
      "outputs": [
        {
          "output_type": "stream",
          "name": "stdout",
          "text": [
            "20/20 [==============================] - 0s 2ms/step - loss: 0.0822 - accuracy: 1.0000\n"
          ]
        },
        {
          "output_type": "execute_result",
          "data": {
            "text/plain": [
              "[0.08223158121109009, 1.0]"
            ]
          },
          "metadata": {},
          "execution_count": 14
        }
      ]
    },
    {
      "cell_type": "code",
      "source": [
        "capas_0 = model.layers[0].get_weights()\n",
        "capas_1 = model.layers[1].get_weights()\n",
        "capas_2 = model.layers[2].get_weights()\n",
        "print(capas_0)\n",
        "print(capas_1)\n",
        "print(capas_2)"
      ],
      "metadata": {
        "colab": {
          "base_uri": "https://localhost:8080/"
        },
        "id": "ebbrllLeJ6UJ",
        "outputId": "e64ef977-4432-44d5-ce64-25fc311ef52d"
      },
      "execution_count": null,
      "outputs": [
        {
          "output_type": "stream",
          "name": "stdout",
          "text": [
            "[array([[ 1.2793931 , -2.0062783 , -0.18659946, -1.427197  ],\n",
            "       [-1.5082104 , -0.2803596 ,  2.3663912 , -1.3072441 ],\n",
            "       [-0.71957517, -2.0481827 , -1.4083885 , -1.4801996 ]],\n",
            "      dtype=float32), array([1.1205801, 1.1072226, 0.8795427, 0.8877593], dtype=float32)]\n",
            "[array([[-0.702988  , -0.41443393,  0.3608912 , -1.6562395 ],\n",
            "       [-0.65790796, -0.21105331,  1.6203163 ,  0.90416664],\n",
            "       [-0.6156573 , -0.64176875, -0.6271087 ,  2.3436387 ],\n",
            "       [-0.08356047, -0.8395576 ,  1.4555458 ,  0.19343181]],\n",
            "      dtype=float32), array([ 0.0000000e+00,  0.0000000e+00, -1.3071578e-05,  1.9729731e+00],\n",
            "      dtype=float32)]\n",
            "[array([[ 0.47779572, -0.3149395 ,  0.5251503 ,  0.06824434, -0.42755955],\n",
            "       [-0.42915836, -0.62002426, -0.14078307, -0.5238595 ,  0.52906644],\n",
            "       [-0.97364897,  1.2581552 , -0.2090279 ,  0.5890479 , -0.8780702 ],\n",
            "       [ 0.8831741 , -1.3865776 , -2.041072  , -0.176316  ,  0.4500639 ]],\n",
            "      dtype=float32), array([-2.1144717, -1.2679216,  2.159766 , -1.6294786,  0.7766873],\n",
            "      dtype=float32)]\n"
          ]
        }
      ]
    },
    {
      "cell_type": "code",
      "source": [
        "model.evaluate(x_test, y_test)"
      ],
      "metadata": {
        "id": "EXveCyDuLAvD",
        "colab": {
          "base_uri": "https://localhost:8080/"
        },
        "outputId": "2ffce9d7-2235-46c1-bb1f-cdf3fd8dc284"
      },
      "execution_count": null,
      "outputs": [
        {
          "output_type": "stream",
          "name": "stdout",
          "text": [
            "20/20 [==============================] - 0s 2ms/step - loss: 0.0822 - accuracy: 1.0000\n"
          ]
        },
        {
          "output_type": "execute_result",
          "data": {
            "text/plain": [
              "[0.08223158121109009, 1.0]"
            ]
          },
          "metadata": {},
          "execution_count": 16
        }
      ]
    },
    {
      "cell_type": "code",
      "source": [
        "import numpy as np\n",
        "accel = [-380\t -16512  5000]\n",
        "fake = (accel-mean)/std\n",
        "fake = fake.values\n",
        "x_test[0] = fake\n",
        "model.predict(x_test)[0]"
      ],
      "metadata": {
        "id": "TJgAkDpWLAKs",
        "colab": {
          "base_uri": "https://localhost:8080/",
          "height": 132
        },
        "outputId": "bd24d682-acac-4617-ee90-edd22151161b"
      },
      "execution_count": null,
      "outputs": [
        {
          "output_type": "error",
          "ename": "SyntaxError",
          "evalue": "ignored",
          "traceback": [
            "\u001b[0;36m  File \u001b[0;32m\"<ipython-input-17-6ce1ae57e700>\"\u001b[0;36m, line \u001b[0;32m2\u001b[0m\n\u001b[0;31m    accel = [-380\t -16512  5000]\u001b[0m\n\u001b[0m                 \t            ^\u001b[0m\n\u001b[0;31mSyntaxError\u001b[0m\u001b[0;31m:\u001b[0m invalid syntax\n"
          ]
        }
      ]
    }
  ]
}